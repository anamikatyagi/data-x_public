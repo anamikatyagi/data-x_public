{
 "cells": [
  {
   "cell_type": "markdown",
   "metadata": {
    "deletable": true,
    "editable": true
   },
   "source": [
    "![data-x](http://oi64.tinypic.com/o858n4.jpg)\n",
    "\n",
    "---\n",
    "# Cookbook 5: SQL Example\n",
    "\n",
    "**Author list:** Alexander Fred Ojala & Sindhuja Jeyabal\n",
    "\n",
    "**References / Sources:** https://plot.ly/python/big-data-analytics-with-pandas-and-sqlite/\n",
    "\n",
    "**License Agreement:** Feel free to do whatever you want with this code\n",
    "\n",
    "___"
   ]
  },
  {
   "cell_type": "markdown",
   "metadata": {
    "deletable": true,
    "editable": true
   },
   "source": [
    "*This notebook is an introduction on how to work with databases and query with SQL by using SQLAlchemy and Pandas in Python*"
   ]
  },
  {
   "cell_type": "code",
   "execution_count": 3,
   "metadata": {
    "collapsed": false,
    "deletable": true,
    "editable": true
   },
   "outputs": [],
   "source": [
    "from __future__ import print_function, absolute_import, division\n",
    "\n",
    "import pandas as pd\n",
    "from sqlalchemy import create_engine # database connection\n",
    "import datetime as dt\n",
    "\n",
    "import warnings\n",
    "warnings.filterwarnings(\"ignore\") # filter warnings"
   ]
  },
  {
   "cell_type": "markdown",
   "metadata": {
    "deletable": true,
    "editable": true
   },
   "source": [
    "#### Initialize database with filename 311_NYC.db in current working directory\n",
    "Data can be downloaded from here: https://nycopendata.socrata.com/Social-Services/311-Service-Requests-from-2010-to-Present/erm2-nwe9 (press Download at top, then CSV)\n",
    "\n",
    "Otherwise you can work on the small subset of the data, called: `311_NYC_small.csv`"
   ]
  },
  {
   "cell_type": "code",
   "execution_count": null,
   "metadata": {
    "collapsed": true,
    "deletable": true,
    "editable": true
   },
   "outputs": [],
   "source": [
    "disk_engine = create_engine('sqlite:///311_NYC.db') # has already been done"
   ]
  },
  {
   "cell_type": "code",
   "execution_count": 4,
   "metadata": {
    "collapsed": false,
    "deletable": true,
    "editable": true
   },
   "outputs": [
    {
     "name": "stdout",
     "output_type": "stream",
     "text": [
      " 15001681\r\n"
     ]
    }
   ],
   "source": [
    "!wc -l < 311_NYC.csv \n",
    "# count the number of rows in the data set, over 15 million records"
   ]
  },
  {
   "cell_type": "markdown",
   "metadata": {
    "deletable": true,
    "editable": true
   },
   "source": [
    "# Setup database from file\n",
    "#### Create DataFrame and extract data to populate an SQLite local database file"
   ]
  },
  {
   "cell_type": "code",
   "execution_count": 3,
   "metadata": {
    "collapsed": false,
    "deletable": true,
    "editable": true,
    "scrolled": true
   },
   "outputs": [
    {
     "name": "stdout",
     "output_type": "stream",
     "text": [
      "9 seconds: completed 20000 rows\n",
      "20 seconds: completed 40000 rows\n",
      "31 seconds: completed 60000 rows\n",
      "42 seconds: completed 80000 rows\n",
      "54 seconds: completed 100000 rows\n",
      "66 seconds: completed 120000 rows\n",
      "78 seconds: completed 140000 rows\n",
      "89 seconds: completed 160000 rows\n",
      "101 seconds: completed 180000 rows\n",
      "114 seconds: completed 200000 rows\n",
      "125 seconds: completed 220000 rows\n",
      "137 seconds: completed 240000 rows\n",
      "149 seconds: completed 260000 rows\n",
      "161 seconds: completed 280000 rows\n",
      "172 seconds: completed 300000 rows\n",
      "184 seconds: completed 320000 rows\n",
      "197 seconds: completed 340000 rows\n",
      "210 seconds: completed 360000 rows\n",
      "222 seconds: completed 380000 rows\n",
      "232 seconds: completed 400000 rows\n",
      "243 seconds: completed 420000 rows\n",
      "255 seconds: completed 440000 rows\n",
      "266 seconds: completed 460000 rows\n",
      "276 seconds: completed 480000 rows\n",
      "289 seconds: completed 500000 rows\n",
      "300 seconds: completed 520000 rows\n",
      "312 seconds: completed 540000 rows\n",
      "322 seconds: completed 560000 rows\n",
      "332 seconds: completed 580000 rows\n",
      "346 seconds: completed 600000 rows\n",
      "358 seconds: completed 620000 rows\n",
      "369 seconds: completed 640000 rows\n",
      "381 seconds: completed 660000 rows\n",
      "393 seconds: completed 680000 rows\n",
      "405 seconds: completed 700000 rows\n",
      "416 seconds: completed 720000 rows\n",
      "426 seconds: completed 740000 rows\n",
      "437 seconds: completed 760000 rows\n",
      "447 seconds: completed 780000 rows\n",
      "458 seconds: completed 800000 rows\n",
      "469 seconds: completed 820000 rows\n",
      "479 seconds: completed 840000 rows\n",
      "490 seconds: completed 860000 rows\n",
      "500 seconds: completed 880000 rows\n",
      "510 seconds: completed 900000 rows\n",
      "521 seconds: completed 920000 rows\n",
      "532 seconds: completed 940000 rows\n",
      "542 seconds: completed 960000 rows\n",
      "554 seconds: completed 980000 rows\n",
      "565 seconds: completed 1000000 rows\n"
     ]
    }
   ],
   "source": [
    "start = dt.datetime.now()\n",
    "\n",
    "chunksize = 20000 # how many data rows to extract at a time\n",
    "\n",
    "j = 0\n",
    "index_start = 1\n",
    "\n",
    "for df in pd.read_csv('311_NYC.csv', chunksize=chunksize, iterator=True, encoding='utf-8'):\n",
    "    \n",
    "    df = df.rename(columns={c: c.replace(' ', '') for c in df.columns}) # Remove spaces from columns\n",
    "\n",
    "    df['CreatedDate'] = pd.to_datetime(df['CreatedDate']) # Convert to datetimes\n",
    "    df['ClosedDate'] = pd.to_datetime(df['ClosedDate'])\n",
    "\n",
    "    df.index += index_start\n",
    "\n",
    "    # Remove the un-interesting columns\n",
    "    columns = ['Agency', 'CreatedDate', 'ClosedDate', 'ComplaintType', 'Descriptor',\n",
    "               'CreatedDate', 'ClosedDate', 'TimeToCompletion',\n",
    "               'City']\n",
    "\n",
    "    for c in df.columns:\n",
    "        if c not in columns:\n",
    "            df = df.drop(c, axis=1)    \n",
    "\n",
    "    \n",
    "    j+=1\n",
    "    print('{} seconds: completed {} rows'.format((dt.datetime.now() - start).seconds, j*chunksize))\n",
    "\n",
    "    df.to_sql('data', disk_engine, if_exists='append')\n",
    "    index_start = df.index[-1] + 1\n",
    "    if (j == 50): # only extract 1 million rows\n",
    "        break\n",
    "        \n",
    "df = df.dropna() # clean up the data"
   ]
  },
  {
   "cell_type": "markdown",
   "metadata": {
    "deletable": true,
    "editable": true
   },
   "source": [
    "## SQLAlchemy queries"
   ]
  },
  {
   "cell_type": "code",
   "execution_count": 7,
   "metadata": {
    "collapsed": false,
    "deletable": true,
    "editable": true
   },
   "outputs": [
    {
     "name": "stdout",
     "output_type": "stream",
     "text": [
      "['data']\n",
      "[(1, '2011-06-20 10:53:34.000000', '2011-06-20 15:15:10.000000', 'DOF', 'DOF Property - Owner Issue', 'Remove Mortgage', 'GLEN OAKS'), (2, '2011-06-20 10:43:46.000000', '2011-06-30 11:33:32.000000', 'DOT', 'Street Condition', 'Defective Hardware', 'BROOKLYN'), (3, '2011-06-20 11:14:08.000000', '2011-06-21 18:41:35.000000', 'DHS', 'DHS Advantage - Tenant', 'Other Issue', 'SOUTH RICHMOND HILL')]\n"
     ]
    }
   ],
   "source": [
    "# Import Table\n",
    "from sqlalchemy import Table\n",
    "\n",
    "engine = create_engine('sqlite:///311_NYC.db')\n",
    "\n",
    "connection = engine.connect()\n",
    "\n",
    "result = connection.execute(\"SELECT * FROM data LIMIT 3\")\n",
    "\n",
    "# Print table names\n",
    "print(engine.table_names()) # only one table called data\n",
    "print(result.fetchall())"
   ]
  },
  {
   "cell_type": "markdown",
   "metadata": {
    "deletable": true,
    "editable": true
   },
   "source": [
    "## Pandas Queries (easier & results look better)\n",
    "Preview the data"
   ]
  },
  {
   "cell_type": "code",
   "execution_count": 8,
   "metadata": {
    "collapsed": false,
    "deletable": true,
    "editable": true
   },
   "outputs": [
    {
     "data": {
      "text/html": [
       "<div>\n",
       "<table border=\"1\" class=\"dataframe\">\n",
       "  <thead>\n",
       "    <tr style=\"text-align: right;\">\n",
       "      <th></th>\n",
       "      <th>CreatedDate</th>\n",
       "      <th>ClosedDate</th>\n",
       "      <th>Agency</th>\n",
       "      <th>ComplaintType</th>\n",
       "      <th>Descriptor</th>\n",
       "      <th>City</th>\n",
       "    </tr>\n",
       "    <tr>\n",
       "      <th>index</th>\n",
       "      <th></th>\n",
       "      <th></th>\n",
       "      <th></th>\n",
       "      <th></th>\n",
       "      <th></th>\n",
       "      <th></th>\n",
       "    </tr>\n",
       "  </thead>\n",
       "  <tbody>\n",
       "    <tr>\n",
       "      <th>1</th>\n",
       "      <td>2011-06-20 10:53:34.000000</td>\n",
       "      <td>2011-06-20 15:15:10.000000</td>\n",
       "      <td>DOF</td>\n",
       "      <td>DOF Property - Owner Issue</td>\n",
       "      <td>Remove Mortgage</td>\n",
       "      <td>GLEN OAKS</td>\n",
       "    </tr>\n",
       "    <tr>\n",
       "      <th>2</th>\n",
       "      <td>2011-06-20 10:43:46.000000</td>\n",
       "      <td>2011-06-30 11:33:32.000000</td>\n",
       "      <td>DOT</td>\n",
       "      <td>Street Condition</td>\n",
       "      <td>Defective Hardware</td>\n",
       "      <td>BROOKLYN</td>\n",
       "    </tr>\n",
       "    <tr>\n",
       "      <th>3</th>\n",
       "      <td>2011-06-20 11:14:08.000000</td>\n",
       "      <td>2011-06-21 18:41:35.000000</td>\n",
       "      <td>DHS</td>\n",
       "      <td>DHS Advantage - Tenant</td>\n",
       "      <td>Other Issue</td>\n",
       "      <td>SOUTH RICHMOND HILL</td>\n",
       "    </tr>\n",
       "  </tbody>\n",
       "</table>\n",
       "</div>"
      ],
      "text/plain": [
       "                      CreatedDate                  ClosedDate Agency  \\\n",
       "index                                                                  \n",
       "1      2011-06-20 10:53:34.000000  2011-06-20 15:15:10.000000    DOF   \n",
       "2      2011-06-20 10:43:46.000000  2011-06-30 11:33:32.000000    DOT   \n",
       "3      2011-06-20 11:14:08.000000  2011-06-21 18:41:35.000000    DHS   \n",
       "\n",
       "                    ComplaintType          Descriptor                 City  \n",
       "index                                                                       \n",
       "1      DOF Property - Owner Issue     Remove Mortgage            GLEN OAKS  \n",
       "2                Street Condition  Defective Hardware             BROOKLYN  \n",
       "3          DHS Advantage - Tenant         Other Issue  SOUTH RICHMOND HILL  "
      ]
     },
     "execution_count": 8,
     "metadata": {},
     "output_type": "execute_result"
    }
   ],
   "source": [
    "df = pd.read_sql_query('SELECT * FROM data LIMIT 3', con=engine,index_col='index')\n",
    "df.head()"
   ]
  },
  {
   "cell_type": "markdown",
   "metadata": {
    "deletable": true,
    "editable": true
   },
   "source": [
    "#### Select a few columns"
   ]
  },
  {
   "cell_type": "code",
   "execution_count": 10,
   "metadata": {
    "collapsed": false,
    "deletable": true,
    "editable": true
   },
   "outputs": [
    {
     "data": {
      "text/html": [
       "<div>\n",
       "<table border=\"1\" class=\"dataframe\">\n",
       "  <thead>\n",
       "    <tr style=\"text-align: right;\">\n",
       "      <th></th>\n",
       "      <th>Agency</th>\n",
       "      <th>Descriptor</th>\n",
       "    </tr>\n",
       "  </thead>\n",
       "  <tbody>\n",
       "    <tr>\n",
       "      <th>0</th>\n",
       "      <td>DOF</td>\n",
       "      <td>Remove Mortgage</td>\n",
       "    </tr>\n",
       "    <tr>\n",
       "      <th>1</th>\n",
       "      <td>DOT</td>\n",
       "      <td>Defective Hardware</td>\n",
       "    </tr>\n",
       "    <tr>\n",
       "      <th>2</th>\n",
       "      <td>DHS</td>\n",
       "      <td>Other Issue</td>\n",
       "    </tr>\n",
       "  </tbody>\n",
       "</table>\n",
       "</div>"
      ],
      "text/plain": [
       "  Agency          Descriptor\n",
       "0    DOF     Remove Mortgage\n",
       "1    DOT  Defective Hardware\n",
       "2    DHS         Other Issue"
      ]
     },
     "execution_count": 10,
     "metadata": {},
     "output_type": "execute_result"
    }
   ],
   "source": [
    "df = pd.read_sql_query('SELECT Agency, Descriptor FROM data LIMIT 3', engine)\n",
    "df.head()"
   ]
  },
  {
   "cell_type": "markdown",
   "metadata": {
    "deletable": true,
    "editable": true
   },
   "source": [
    "#### Filter rows using WHERE"
   ]
  },
  {
   "cell_type": "code",
   "execution_count": 11,
   "metadata": {
    "collapsed": false,
    "deletable": true,
    "editable": true
   },
   "outputs": [
    {
     "data": {
      "text/html": [
       "<div>\n",
       "<table border=\"1\" class=\"dataframe\">\n",
       "  <thead>\n",
       "    <tr style=\"text-align: right;\">\n",
       "      <th></th>\n",
       "      <th>ComplaintType</th>\n",
       "      <th>Descriptor</th>\n",
       "      <th>Agency</th>\n",
       "    </tr>\n",
       "  </thead>\n",
       "  <tbody>\n",
       "    <tr>\n",
       "      <th>0</th>\n",
       "      <td>Agency Issues</td>\n",
       "      <td>Family Court Issue</td>\n",
       "      <td>ACS</td>\n",
       "    </tr>\n",
       "    <tr>\n",
       "      <th>1</th>\n",
       "      <td>Agency Issues</td>\n",
       "      <td>Family Court Issue</td>\n",
       "      <td>ACS</td>\n",
       "    </tr>\n",
       "  </tbody>\n",
       "</table>\n",
       "</div>"
      ],
      "text/plain": [
       "   ComplaintType          Descriptor Agency\n",
       "0  Agency Issues  Family Court Issue    ACS\n",
       "1  Agency Issues  Family Court Issue    ACS"
      ]
     },
     "execution_count": 11,
     "metadata": {},
     "output_type": "execute_result"
    }
   ],
   "source": [
    "df = pd.read_sql_query('''SELECT ComplaintType, Descriptor, Agency\n",
    "                          FROM data\n",
    "                          WHERE Agency = \"ACS\"\n",
    "                          LIMIT 10''', engine)\n",
    "df.head()"
   ]
  },
  {
   "cell_type": "markdown",
   "metadata": {
    "deletable": true,
    "editable": true
   },
   "source": [
    "#### Filter multiple values in a column using IN"
   ]
  },
  {
   "cell_type": "code",
   "execution_count": 20,
   "metadata": {
    "collapsed": false,
    "deletable": true,
    "editable": true
   },
   "outputs": [
    {
     "data": {
      "text/html": [
       "<div>\n",
       "<table border=\"1\" class=\"dataframe\">\n",
       "  <thead>\n",
       "    <tr style=\"text-align: right;\">\n",
       "      <th></th>\n",
       "      <th>ComplaintType</th>\n",
       "      <th>Descriptor</th>\n",
       "      <th>Agency</th>\n",
       "    </tr>\n",
       "  </thead>\n",
       "  <tbody>\n",
       "    <tr>\n",
       "      <th>0</th>\n",
       "      <td>Noise - Street/Sidewalk</td>\n",
       "      <td>Loud Music/Party</td>\n",
       "      <td>NYPD</td>\n",
       "    </tr>\n",
       "    <tr>\n",
       "      <th>1</th>\n",
       "      <td>Blocked Driveway</td>\n",
       "      <td>No Access</td>\n",
       "      <td>NYPD</td>\n",
       "    </tr>\n",
       "    <tr>\n",
       "      <th>2</th>\n",
       "      <td>Blocked Driveway</td>\n",
       "      <td>No Access</td>\n",
       "      <td>NYPD</td>\n",
       "    </tr>\n",
       "    <tr>\n",
       "      <th>3</th>\n",
       "      <td>Blocked Driveway</td>\n",
       "      <td>Partial Access</td>\n",
       "      <td>NYPD</td>\n",
       "    </tr>\n",
       "    <tr>\n",
       "      <th>4</th>\n",
       "      <td>Noise - Residential</td>\n",
       "      <td>Loud Music/Party</td>\n",
       "      <td>NYPD</td>\n",
       "    </tr>\n",
       "    <tr>\n",
       "      <th>5</th>\n",
       "      <td>Derelict Vehicle</td>\n",
       "      <td>With License Plate</td>\n",
       "      <td>NYPD</td>\n",
       "    </tr>\n",
       "    <tr>\n",
       "      <th>6</th>\n",
       "      <td>Derelict Vehicle</td>\n",
       "      <td>With License Plate</td>\n",
       "      <td>NYPD</td>\n",
       "    </tr>\n",
       "    <tr>\n",
       "      <th>7</th>\n",
       "      <td>Blocked Driveway</td>\n",
       "      <td>No Access</td>\n",
       "      <td>NYPD</td>\n",
       "    </tr>\n",
       "    <tr>\n",
       "      <th>8</th>\n",
       "      <td>Noise - Park</td>\n",
       "      <td>Loud Music/Party</td>\n",
       "      <td>NYPD</td>\n",
       "    </tr>\n",
       "    <tr>\n",
       "      <th>9</th>\n",
       "      <td>Noise - Residential</td>\n",
       "      <td>Loud Music/Party</td>\n",
       "      <td>NYPD</td>\n",
       "    </tr>\n",
       "    <tr>\n",
       "      <th>10</th>\n",
       "      <td>Construction</td>\n",
       "      <td>Initial - Construction</td>\n",
       "      <td>DOB</td>\n",
       "    </tr>\n",
       "    <tr>\n",
       "      <th>11</th>\n",
       "      <td>Construction</td>\n",
       "      <td>Initial - Construction</td>\n",
       "      <td>DOB</td>\n",
       "    </tr>\n",
       "    <tr>\n",
       "      <th>12</th>\n",
       "      <td>Construction</td>\n",
       "      <td>Initial - Construction</td>\n",
       "      <td>DOB</td>\n",
       "    </tr>\n",
       "    <tr>\n",
       "      <th>13</th>\n",
       "      <td>Construction</td>\n",
       "      <td>Initial - BPP</td>\n",
       "      <td>DOB</td>\n",
       "    </tr>\n",
       "    <tr>\n",
       "      <th>14</th>\n",
       "      <td>Derelict Vehicle</td>\n",
       "      <td>With License Plate</td>\n",
       "      <td>NYPD</td>\n",
       "    </tr>\n",
       "    <tr>\n",
       "      <th>15</th>\n",
       "      <td>Derelict Vehicle</td>\n",
       "      <td>With License Plate</td>\n",
       "      <td>NYPD</td>\n",
       "    </tr>\n",
       "    <tr>\n",
       "      <th>16</th>\n",
       "      <td>Illegal Parking</td>\n",
       "      <td>Posted Parking Sign Violation</td>\n",
       "      <td>NYPD</td>\n",
       "    </tr>\n",
       "    <tr>\n",
       "      <th>17</th>\n",
       "      <td>Noise - Street/Sidewalk</td>\n",
       "      <td>Loud Talking</td>\n",
       "      <td>NYPD</td>\n",
       "    </tr>\n",
       "    <tr>\n",
       "      <th>18</th>\n",
       "      <td>Noise - Vehicle</td>\n",
       "      <td>Engine Idling</td>\n",
       "      <td>NYPD</td>\n",
       "    </tr>\n",
       "    <tr>\n",
       "      <th>19</th>\n",
       "      <td>Urinating in Public</td>\n",
       "      <td>None</td>\n",
       "      <td>NYPD</td>\n",
       "    </tr>\n",
       "  </tbody>\n",
       "</table>\n",
       "</div>"
      ],
      "text/plain": [
       "              ComplaintType                     Descriptor Agency\n",
       "0   Noise - Street/Sidewalk               Loud Music/Party   NYPD\n",
       "1          Blocked Driveway                      No Access   NYPD\n",
       "2          Blocked Driveway                      No Access   NYPD\n",
       "3          Blocked Driveway                 Partial Access   NYPD\n",
       "4       Noise - Residential               Loud Music/Party   NYPD\n",
       "5          Derelict Vehicle             With License Plate   NYPD\n",
       "6          Derelict Vehicle             With License Plate   NYPD\n",
       "7          Blocked Driveway                      No Access   NYPD\n",
       "8              Noise - Park               Loud Music/Party   NYPD\n",
       "9       Noise - Residential               Loud Music/Party   NYPD\n",
       "10             Construction         Initial - Construction    DOB\n",
       "11             Construction         Initial - Construction    DOB\n",
       "12             Construction         Initial - Construction    DOB\n",
       "13             Construction                  Initial - BPP    DOB\n",
       "14         Derelict Vehicle             With License Plate   NYPD\n",
       "15         Derelict Vehicle             With License Plate   NYPD\n",
       "16          Illegal Parking  Posted Parking Sign Violation   NYPD\n",
       "17  Noise - Street/Sidewalk                   Loud Talking   NYPD\n",
       "18          Noise - Vehicle                  Engine Idling   NYPD\n",
       "19      Urinating in Public                           None   NYPD"
      ]
     },
     "execution_count": 20,
     "metadata": {},
     "output_type": "execute_result"
    }
   ],
   "source": [
    "df = pd.read_sql_query('SELECT ComplaintType, Descriptor, Agency '\n",
    "                       'FROM data '\n",
    "                       'WHERE Agency IN (\"NYPD\", \"DOB\")'\n",
    "                       'LIMIT 20', engine)\n",
    "df.head(20)"
   ]
  },
  {
   "cell_type": "markdown",
   "metadata": {
    "deletable": true,
    "editable": true
   },
   "source": [
    "#### Find Unique values using DISTINCT"
   ]
  },
  {
   "cell_type": "code",
   "execution_count": 15,
   "metadata": {
    "collapsed": false,
    "deletable": true,
    "editable": true
   },
   "outputs": [
    {
     "data": {
      "text/html": [
       "<div>\n",
       "<table border=\"1\" class=\"dataframe\">\n",
       "  <thead>\n",
       "    <tr style=\"text-align: right;\">\n",
       "      <th></th>\n",
       "      <th>Agency</th>\n",
       "    </tr>\n",
       "  </thead>\n",
       "  <tbody>\n",
       "    <tr>\n",
       "      <th>0</th>\n",
       "      <td>DOF</td>\n",
       "    </tr>\n",
       "    <tr>\n",
       "      <th>1</th>\n",
       "      <td>DOT</td>\n",
       "    </tr>\n",
       "    <tr>\n",
       "      <th>2</th>\n",
       "      <td>DHS</td>\n",
       "    </tr>\n",
       "    <tr>\n",
       "      <th>3</th>\n",
       "      <td>DOHMH</td>\n",
       "    </tr>\n",
       "    <tr>\n",
       "      <th>4</th>\n",
       "      <td>NYPD</td>\n",
       "    </tr>\n",
       "  </tbody>\n",
       "</table>\n",
       "</div>"
      ],
      "text/plain": [
       "  Agency\n",
       "0    DOF\n",
       "1    DOT\n",
       "2    DHS\n",
       "3  DOHMH\n",
       "4   NYPD"
      ]
     },
     "execution_count": 15,
     "metadata": {},
     "output_type": "execute_result"
    }
   ],
   "source": [
    "df = pd.read_sql_query('SELECT DISTINCT Agency FROM data', engine)\n",
    "df.head()"
   ]
  },
  {
   "cell_type": "markdown",
   "metadata": {
    "deletable": true,
    "editable": true
   },
   "source": [
    "####  Query values using COUNT(*) and GROUP_BY"
   ]
  },
  {
   "cell_type": "code",
   "execution_count": 17,
   "metadata": {
    "collapsed": false,
    "deletable": true,
    "editable": true
   },
   "outputs": [
    {
     "data": {
      "text/html": [
       "<div>\n",
       "<table border=\"1\" class=\"dataframe\">\n",
       "  <thead>\n",
       "    <tr style=\"text-align: right;\">\n",
       "      <th></th>\n",
       "      <th>Agency</th>\n",
       "      <th>num_complaints</th>\n",
       "    </tr>\n",
       "  </thead>\n",
       "  <tbody>\n",
       "    <tr>\n",
       "      <th>0</th>\n",
       "      <td>3-1-1</td>\n",
       "      <td>1097</td>\n",
       "    </tr>\n",
       "    <tr>\n",
       "      <th>1</th>\n",
       "      <td>ACS</td>\n",
       "      <td>2</td>\n",
       "    </tr>\n",
       "    <tr>\n",
       "      <th>2</th>\n",
       "      <td>CAU</td>\n",
       "      <td>2</td>\n",
       "    </tr>\n",
       "    <tr>\n",
       "      <th>3</th>\n",
       "      <td>CHALL</td>\n",
       "      <td>16</td>\n",
       "    </tr>\n",
       "    <tr>\n",
       "      <th>4</th>\n",
       "      <td>COIB</td>\n",
       "      <td>1</td>\n",
       "    </tr>\n",
       "  </tbody>\n",
       "</table>\n",
       "</div>"
      ],
      "text/plain": [
       "  Agency  num_complaints\n",
       "0  3-1-1            1097\n",
       "1    ACS               2\n",
       "2    CAU               2\n",
       "3  CHALL              16\n",
       "4   COIB               1"
      ]
     },
     "execution_count": 17,
     "metadata": {},
     "output_type": "execute_result"
    }
   ],
   "source": [
    "df = pd.read_sql_query('''SELECT Agency, COUNT(*) as num_complaints\n",
    "                          FROM data \n",
    "                          GROUP BY Agency ''', engine)\n",
    "\n",
    "df.head()"
   ]
  },
  {
   "cell_type": "markdown",
   "metadata": {
    "deletable": true,
    "editable": true
   },
   "source": [
    "#### Which Department receives the most complaints?  And which receives the least?"
   ]
  },
  {
   "cell_type": "code",
   "execution_count": 22,
   "metadata": {
    "collapsed": false,
    "deletable": true,
    "editable": true
   },
   "outputs": [
    {
     "data": {
      "text/html": [
       "<div>\n",
       "<table border=\"1\" class=\"dataframe\">\n",
       "  <thead>\n",
       "    <tr style=\"text-align: right;\">\n",
       "      <th></th>\n",
       "      <th>Agency</th>\n",
       "      <th>num_complaints</th>\n",
       "    </tr>\n",
       "  </thead>\n",
       "  <tbody>\n",
       "    <tr>\n",
       "      <th>0</th>\n",
       "      <td>HPD</td>\n",
       "      <td>634543</td>\n",
       "    </tr>\n",
       "    <tr>\n",
       "      <th>1</th>\n",
       "      <td>NYPD</td>\n",
       "      <td>464918</td>\n",
       "    </tr>\n",
       "    <tr>\n",
       "      <th>2</th>\n",
       "      <td>DOT</td>\n",
       "      <td>234664</td>\n",
       "    </tr>\n",
       "    <tr>\n",
       "      <th>3</th>\n",
       "      <td>DSNY</td>\n",
       "      <td>111076</td>\n",
       "    </tr>\n",
       "    <tr>\n",
       "      <th>4</th>\n",
       "      <td>DOB</td>\n",
       "      <td>62095</td>\n",
       "    </tr>\n",
       "  </tbody>\n",
       "</table>\n",
       "</div>"
      ],
      "text/plain": [
       "  Agency  num_complaints\n",
       "0    HPD          634543\n",
       "1   NYPD          464918\n",
       "2    DOT          234664\n",
       "3   DSNY          111076\n",
       "4    DOB           62095"
      ]
     },
     "execution_count": 22,
     "metadata": {},
     "output_type": "execute_result"
    }
   ],
   "source": [
    "df = pd.read_sql_query('''SELECT Agency, COUNT(*) as num_complaints\n",
    "                          FROM data \n",
    "                          GROUP BY Agency \n",
    "                          ORDER BY -num_complaints''', engine)\n",
    "df.head()"
   ]
  },
  {
   "cell_type": "markdown",
   "metadata": {
    "deletable": true,
    "editable": true
   },
   "source": [
    "#### What is the most common complaint type?"
   ]
  },
  {
   "cell_type": "code",
   "execution_count": 23,
   "metadata": {
    "collapsed": false,
    "deletable": true,
    "editable": true
   },
   "outputs": [
    {
     "data": {
      "text/html": [
       "<div>\n",
       "<table border=\"1\" class=\"dataframe\">\n",
       "  <thead>\n",
       "    <tr style=\"text-align: right;\">\n",
       "      <th></th>\n",
       "      <th>ComplaintType</th>\n",
       "      <th>num_complaints</th>\n",
       "      <th>Agency</th>\n",
       "    </tr>\n",
       "  </thead>\n",
       "  <tbody>\n",
       "    <tr>\n",
       "      <th>0</th>\n",
       "      <td>HEAT/HOT WATER</td>\n",
       "      <td>309039</td>\n",
       "      <td>HPD</td>\n",
       "    </tr>\n",
       "    <tr>\n",
       "      <th>1</th>\n",
       "      <td>Noise - Residential</td>\n",
       "      <td>162078</td>\n",
       "      <td>NYPD</td>\n",
       "    </tr>\n",
       "    <tr>\n",
       "      <th>2</th>\n",
       "      <td>Blocked Driveway</td>\n",
       "      <td>93795</td>\n",
       "      <td>NYPD</td>\n",
       "    </tr>\n",
       "    <tr>\n",
       "      <th>3</th>\n",
       "      <td>Illegal Parking</td>\n",
       "      <td>86530</td>\n",
       "      <td>NYPD</td>\n",
       "    </tr>\n",
       "    <tr>\n",
       "      <th>4</th>\n",
       "      <td>Street Light Condition</td>\n",
       "      <td>78830</td>\n",
       "      <td>DOT</td>\n",
       "    </tr>\n",
       "  </tbody>\n",
       "</table>\n",
       "</div>"
      ],
      "text/plain": [
       "            ComplaintType  num_complaints Agency\n",
       "0          HEAT/HOT WATER          309039    HPD\n",
       "1     Noise - Residential          162078   NYPD\n",
       "2        Blocked Driveway           93795   NYPD\n",
       "3         Illegal Parking           86530   NYPD\n",
       "4  Street Light Condition           78830    DOT"
      ]
     },
     "execution_count": 23,
     "metadata": {},
     "output_type": "execute_result"
    }
   ],
   "source": [
    "df = pd.read_sql_query('''SELECT ComplaintType, COUNT(*) as num_complaints, Agency\n",
    "                          FROM data\n",
    "                          GROUP BY ComplaintType\n",
    "                          ORDER BY -num_complaints''', engine)\n",
    "\n",
    "df.head()"
   ]
  },
  {
   "cell_type": "markdown",
   "metadata": {
    "deletable": true,
    "editable": true
   },
   "source": [
    "#### Number of complaints per city for the top 10 cities with most complaints"
   ]
  },
  {
   "cell_type": "code",
   "execution_count": 25,
   "metadata": {
    "collapsed": false,
    "deletable": true,
    "editable": true
   },
   "outputs": [
    {
     "data": {
      "text/html": [
       "<div>\n",
       "<table border=\"1\" class=\"dataframe\">\n",
       "  <thead>\n",
       "    <tr style=\"text-align: right;\">\n",
       "      <th></th>\n",
       "      <th>City</th>\n",
       "      <th>num_complaints</th>\n",
       "    </tr>\n",
       "  </thead>\n",
       "  <tbody>\n",
       "    <tr>\n",
       "      <th>0</th>\n",
       "      <td>BROOKLYN</td>\n",
       "      <td>512387</td>\n",
       "    </tr>\n",
       "    <tr>\n",
       "      <th>1</th>\n",
       "      <td>NEW YORK</td>\n",
       "      <td>370381</td>\n",
       "    </tr>\n",
       "    <tr>\n",
       "      <th>2</th>\n",
       "      <td>BRONX</td>\n",
       "      <td>349553</td>\n",
       "    </tr>\n",
       "    <tr>\n",
       "      <th>3</th>\n",
       "      <td>None</td>\n",
       "      <td>121667</td>\n",
       "    </tr>\n",
       "    <tr>\n",
       "      <th>4</th>\n",
       "      <td>STATEN ISLAND</td>\n",
       "      <td>70249</td>\n",
       "    </tr>\n",
       "    <tr>\n",
       "      <th>5</th>\n",
       "      <td>Jamaica</td>\n",
       "      <td>20384</td>\n",
       "    </tr>\n",
       "    <tr>\n",
       "      <th>6</th>\n",
       "      <td>JAMAICA</td>\n",
       "      <td>16440</td>\n",
       "    </tr>\n",
       "    <tr>\n",
       "      <th>7</th>\n",
       "      <td>Flushing</td>\n",
       "      <td>15542</td>\n",
       "    </tr>\n",
       "    <tr>\n",
       "      <th>8</th>\n",
       "      <td>FLUSHING</td>\n",
       "      <td>15390</td>\n",
       "    </tr>\n",
       "    <tr>\n",
       "      <th>9</th>\n",
       "      <td>ASTORIA</td>\n",
       "      <td>14157</td>\n",
       "    </tr>\n",
       "  </tbody>\n",
       "</table>\n",
       "</div>"
      ],
      "text/plain": [
       "            City  num_complaints\n",
       "0       BROOKLYN          512387\n",
       "1       NEW YORK          370381\n",
       "2          BRONX          349553\n",
       "3           None          121667\n",
       "4  STATEN ISLAND           70249\n",
       "5        Jamaica           20384\n",
       "6        JAMAICA           16440\n",
       "7       Flushing           15542\n",
       "8       FLUSHING           15390\n",
       "9        ASTORIA           14157"
      ]
     },
     "execution_count": 25,
     "metadata": {},
     "output_type": "execute_result"
    }
   ],
   "source": [
    "df = pd.read_sql_query('''SELECT City, COUNT(*) as num_complaints\n",
    "                          FROM data\n",
    "                          GROUP BY City\n",
    "                          ORDER BY -num_complaints\n",
    "                          LIMIT 10 ''', engine)\n",
    "df"
   ]
  },
  {
   "cell_type": "markdown",
   "metadata": {
    "deletable": true,
    "editable": true
   },
   "source": [
    "#### Perform Case Insensitive Queries"
   ]
  },
  {
   "cell_type": "code",
   "execution_count": 26,
   "metadata": {
    "collapsed": false,
    "deletable": true,
    "editable": true
   },
   "outputs": [
    {
     "data": {
      "text/html": [
       "<div>\n",
       "<table border=\"1\" class=\"dataframe\">\n",
       "  <thead>\n",
       "    <tr style=\"text-align: right;\">\n",
       "      <th></th>\n",
       "      <th>City</th>\n",
       "      <th>num_complaints</th>\n",
       "    </tr>\n",
       "  </thead>\n",
       "  <tbody>\n",
       "    <tr>\n",
       "      <th>0</th>\n",
       "      <td>BROOKLYN</td>\n",
       "      <td>512387</td>\n",
       "    </tr>\n",
       "    <tr>\n",
       "      <th>1</th>\n",
       "      <td>NEW YORK</td>\n",
       "      <td>370381</td>\n",
       "    </tr>\n",
       "    <tr>\n",
       "      <th>2</th>\n",
       "      <td>BRONX</td>\n",
       "      <td>349553</td>\n",
       "    </tr>\n",
       "    <tr>\n",
       "      <th>3</th>\n",
       "      <td>None</td>\n",
       "      <td>121667</td>\n",
       "    </tr>\n",
       "    <tr>\n",
       "      <th>4</th>\n",
       "      <td>STATEN ISLAND</td>\n",
       "      <td>70249</td>\n",
       "    </tr>\n",
       "    <tr>\n",
       "      <th>5</th>\n",
       "      <td>JAMAICA</td>\n",
       "      <td>36824</td>\n",
       "    </tr>\n",
       "    <tr>\n",
       "      <th>6</th>\n",
       "      <td>FLUSHING</td>\n",
       "      <td>30932</td>\n",
       "    </tr>\n",
       "    <tr>\n",
       "      <th>7</th>\n",
       "      <td>Astoria</td>\n",
       "      <td>27685</td>\n",
       "    </tr>\n",
       "    <tr>\n",
       "      <th>8</th>\n",
       "      <td>Ridgewood</td>\n",
       "      <td>18720</td>\n",
       "    </tr>\n",
       "    <tr>\n",
       "      <th>9</th>\n",
       "      <td>ELMHURST</td>\n",
       "      <td>14535</td>\n",
       "    </tr>\n",
       "    <tr>\n",
       "      <th>10</th>\n",
       "      <td>CORONA</td>\n",
       "      <td>13709</td>\n",
       "    </tr>\n",
       "  </tbody>\n",
       "</table>\n",
       "</div>"
      ],
      "text/plain": [
       "             City  num_complaints\n",
       "0        BROOKLYN          512387\n",
       "1        NEW YORK          370381\n",
       "2           BRONX          349553\n",
       "3            None          121667\n",
       "4   STATEN ISLAND           70249\n",
       "5         JAMAICA           36824\n",
       "6        FLUSHING           30932\n",
       "7         Astoria           27685\n",
       "8       Ridgewood           18720\n",
       "9        ELMHURST           14535\n",
       "10         CORONA           13709"
      ]
     },
     "execution_count": 26,
     "metadata": {},
     "output_type": "execute_result"
    }
   ],
   "source": [
    "df = pd.read_sql_query('''SELECT City, COUNT(*) as num_complaints\n",
    "                          FROM data\n",
    "                          GROUP BY City\n",
    "                          COLLATE NOCASE\n",
    "                          ORDER BY -num_complaints\n",
    "                          LIMIT 11 ''', engine)\n",
    "df"
   ]
  },
  {
   "cell_type": "code",
   "execution_count": null,
   "metadata": {
    "collapsed": true,
    "deletable": true,
    "editable": true
   },
   "outputs": [],
   "source": []
  }
 ],
 "metadata": {
  "anaconda-cloud": {},
  "kernelspec": {
   "display_name": "Python 3",
   "language": "python",
   "name": "python3"
  },
  "language_info": {
   "codemirror_mode": {
    "name": "ipython",
    "version": 3
   },
   "file_extension": ".py",
   "mimetype": "text/x-python",
   "name": "python",
   "nbconvert_exporter": "python",
   "pygments_lexer": "ipython3",
   "version": "3.5.3"
  }
 },
 "nbformat": 4,
 "nbformat_minor": 0
}
